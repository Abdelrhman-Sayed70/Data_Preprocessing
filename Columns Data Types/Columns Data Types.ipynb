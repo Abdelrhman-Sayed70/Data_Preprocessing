{
 "cells": [
  {
   "cell_type": "markdown",
   "id": "aa5b5ab8",
   "metadata": {},
   "source": [
    "# Import Libraries and Read data"
   ]
  },
  {
   "cell_type": "code",
   "execution_count": 1,
   "id": "15ffbce5",
   "metadata": {},
   "outputs": [],
   "source": [
    "import pandas as pd \n",
    "import numpy as np"
   ]
  },
  {
   "cell_type": "code",
   "execution_count": 32,
   "id": "20796f06",
   "metadata": {},
   "outputs": [],
   "source": [
    "dic_data = {'string_col':['1','2','3','4'],\n",
    "            'int_float_D':[1,2,3.2,4.6],\n",
    "            'int_float_r':[1,2,3.2,4.6],\n",
    "            'mix_col':['a','-2',3,4],\n",
    "            'missing':[1,2,3,np.nan],\n",
    "            'money':['$1.500.00','$3.436.45','$958.99','$1.198.00']\n",
    "           }"
   ]
  },
  {
   "cell_type": "code",
   "execution_count": 33,
   "id": "bedc7cbb",
   "metadata": {},
   "outputs": [],
   "source": [
    "df = pd.DataFrame.from_dict(dic_data)"
   ]
  },
  {
   "cell_type": "code",
   "execution_count": 34,
   "id": "b193b34c",
   "metadata": {},
   "outputs": [
    {
     "data": {
      "text/html": [
       "<div>\n",
       "<style scoped>\n",
       "    .dataframe tbody tr th:only-of-type {\n",
       "        vertical-align: middle;\n",
       "    }\n",
       "\n",
       "    .dataframe tbody tr th {\n",
       "        vertical-align: top;\n",
       "    }\n",
       "\n",
       "    .dataframe thead th {\n",
       "        text-align: right;\n",
       "    }\n",
       "</style>\n",
       "<table border=\"1\" class=\"dataframe\">\n",
       "  <thead>\n",
       "    <tr style=\"text-align: right;\">\n",
       "      <th></th>\n",
       "      <th>string_col</th>\n",
       "      <th>int_float_D</th>\n",
       "      <th>int_float_r</th>\n",
       "      <th>mix_col</th>\n",
       "      <th>missing</th>\n",
       "      <th>money</th>\n",
       "    </tr>\n",
       "  </thead>\n",
       "  <tbody>\n",
       "    <tr>\n",
       "      <th>0</th>\n",
       "      <td>1</td>\n",
       "      <td>1.0</td>\n",
       "      <td>1.0</td>\n",
       "      <td>a</td>\n",
       "      <td>1.0</td>\n",
       "      <td>$1.500.00</td>\n",
       "    </tr>\n",
       "    <tr>\n",
       "      <th>1</th>\n",
       "      <td>2</td>\n",
       "      <td>2.0</td>\n",
       "      <td>2.0</td>\n",
       "      <td>-2</td>\n",
       "      <td>2.0</td>\n",
       "      <td>$3.436.45</td>\n",
       "    </tr>\n",
       "    <tr>\n",
       "      <th>2</th>\n",
       "      <td>3</td>\n",
       "      <td>3.2</td>\n",
       "      <td>3.2</td>\n",
       "      <td>3</td>\n",
       "      <td>3.0</td>\n",
       "      <td>$958.99</td>\n",
       "    </tr>\n",
       "    <tr>\n",
       "      <th>3</th>\n",
       "      <td>4</td>\n",
       "      <td>4.6</td>\n",
       "      <td>4.6</td>\n",
       "      <td>4</td>\n",
       "      <td>NaN</td>\n",
       "      <td>$1.198.00</td>\n",
       "    </tr>\n",
       "  </tbody>\n",
       "</table>\n",
       "</div>"
      ],
      "text/plain": [
       "  string_col  int_float_D  int_float_r mix_col  missing      money\n",
       "0          1          1.0          1.0       a      1.0  $1.500.00\n",
       "1          2          2.0          2.0      -2      2.0  $3.436.45\n",
       "2          3          3.2          3.2       3      3.0    $958.99\n",
       "3          4          4.6          4.6       4      NaN  $1.198.00"
      ]
     },
     "execution_count": 34,
     "metadata": {},
     "output_type": "execute_result"
    }
   ],
   "source": [
    "df"
   ]
  },
  {
   "cell_type": "markdown",
   "id": "b3985d9c",
   "metadata": {},
   "source": [
    "![separator2](https://i.imgur.com/4gX5WFr.png)"
   ]
  },
  {
   "cell_type": "markdown",
   "id": "599a7e0b",
   "metadata": {},
   "source": [
    "# Analysis Data Types of columns"
   ]
  },
  {
   "cell_type": "code",
   "execution_count": 35,
   "id": "bd929f8d",
   "metadata": {},
   "outputs": [
    {
     "data": {
      "text/plain": [
       "string_col      object\n",
       "int_float_D    float64\n",
       "int_float_r    float64\n",
       "mix_col         object\n",
       "missing        float64\n",
       "money           object\n",
       "dtype: object"
      ]
     },
     "execution_count": 35,
     "metadata": {},
     "output_type": "execute_result"
    }
   ],
   "source": [
    "df.dtypes"
   ]
  },
  {
   "cell_type": "markdown",
   "id": "6aa6386d",
   "metadata": {},
   "source": [
    "## string_col\n",
    "```it consists of numbers but its data type is object so let's convert its data type to int```"
   ]
  },
  {
   "cell_type": "code",
   "execution_count": 36,
   "id": "82b996f0",
   "metadata": {},
   "outputs": [],
   "source": [
    "df['string_col'] = df['string_col'].astype(int)"
   ]
  },
  {
   "cell_type": "code",
   "execution_count": 37,
   "id": "24e624a9",
   "metadata": {},
   "outputs": [
    {
     "data": {
      "text/plain": [
       "dtype('int32')"
      ]
     },
     "execution_count": 37,
     "metadata": {},
     "output_type": "execute_result"
    }
   ],
   "source": [
    "df['string_col'].dtype"
   ]
  },
  {
   "cell_type": "markdown",
   "id": "73306994",
   "metadata": {},
   "source": [
    "## int_float_D\n",
    "```convert this column to int with Round down```"
   ]
  },
  {
   "cell_type": "code",
   "execution_count": 38,
   "id": "d2eb391f",
   "metadata": {},
   "outputs": [],
   "source": [
    "df['int_float_D'] = df['int_float_D'].astype(int)"
   ]
  },
  {
   "cell_type": "code",
   "execution_count": 39,
   "id": "4859fea4",
   "metadata": {},
   "outputs": [
    {
     "data": {
      "text/plain": [
       "dtype('int32')"
      ]
     },
     "execution_count": 39,
     "metadata": {},
     "output_type": "execute_result"
    }
   ],
   "source": [
    "df['int_float_D'].dtype"
   ]
  },
  {
   "cell_type": "code",
   "execution_count": 40,
   "id": "98906831",
   "metadata": {
    "scrolled": true
   },
   "outputs": [
    {
     "data": {
      "text/plain": [
       "0    1\n",
       "1    2\n",
       "2    3\n",
       "3    4\n",
       "Name: int_float_D, dtype: int32"
      ]
     },
     "execution_count": 40,
     "metadata": {},
     "output_type": "execute_result"
    }
   ],
   "source": [
    "df['int_float_D']"
   ]
  },
  {
   "cell_type": "markdown",
   "id": "d23ede54",
   "metadata": {},
   "source": [
    "## int_float_r\n",
    "```convert this column to int with Round using number of decimal points```"
   ]
  },
  {
   "cell_type": "code",
   "execution_count": 41,
   "id": "579a22a4",
   "metadata": {},
   "outputs": [],
   "source": [
    "df['int_float_r'] = df['int_float_r'].round(0).astype(int)"
   ]
  },
  {
   "cell_type": "code",
   "execution_count": 42,
   "id": "426441b8",
   "metadata": {},
   "outputs": [
    {
     "data": {
      "text/plain": [
       "dtype('int32')"
      ]
     },
     "execution_count": 42,
     "metadata": {},
     "output_type": "execute_result"
    }
   ],
   "source": [
    "df['int_float_r'].dtype"
   ]
  },
  {
   "cell_type": "code",
   "execution_count": 43,
   "id": "85e4dbcf",
   "metadata": {},
   "outputs": [
    {
     "data": {
      "text/plain": [
       "0    1\n",
       "1    2\n",
       "2    3\n",
       "3    5\n",
       "Name: int_float_r, dtype: int32"
      ]
     },
     "execution_count": 43,
     "metadata": {},
     "output_type": "execute_result"
    }
   ],
   "source": [
    "df['int_float_r']"
   ]
  },
  {
   "cell_type": "code",
   "execution_count": 44,
   "id": "28e95ac3",
   "metadata": {},
   "outputs": [
    {
     "data": {
      "text/plain": [
       "string_col       int32\n",
       "int_float_D      int32\n",
       "int_float_r      int32\n",
       "mix_col         object\n",
       "missing        float64\n",
       "money           object\n",
       "dtype: object"
      ]
     },
     "execution_count": 44,
     "metadata": {},
     "output_type": "execute_result"
    }
   ],
   "source": [
    "df.dtypes"
   ]
  },
  {
   "cell_type": "code",
   "execution_count": 45,
   "id": "e7840a45",
   "metadata": {},
   "outputs": [
    {
     "data": {
      "text/html": [
       "<div>\n",
       "<style scoped>\n",
       "    .dataframe tbody tr th:only-of-type {\n",
       "        vertical-align: middle;\n",
       "    }\n",
       "\n",
       "    .dataframe tbody tr th {\n",
       "        vertical-align: top;\n",
       "    }\n",
       "\n",
       "    .dataframe thead th {\n",
       "        text-align: right;\n",
       "    }\n",
       "</style>\n",
       "<table border=\"1\" class=\"dataframe\">\n",
       "  <thead>\n",
       "    <tr style=\"text-align: right;\">\n",
       "      <th></th>\n",
       "      <th>string_col</th>\n",
       "      <th>int_float_D</th>\n",
       "      <th>int_float_r</th>\n",
       "      <th>mix_col</th>\n",
       "      <th>missing</th>\n",
       "      <th>money</th>\n",
       "    </tr>\n",
       "  </thead>\n",
       "  <tbody>\n",
       "    <tr>\n",
       "      <th>0</th>\n",
       "      <td>1</td>\n",
       "      <td>1</td>\n",
       "      <td>1</td>\n",
       "      <td>a</td>\n",
       "      <td>1.0</td>\n",
       "      <td>$1.500.00</td>\n",
       "    </tr>\n",
       "    <tr>\n",
       "      <th>1</th>\n",
       "      <td>2</td>\n",
       "      <td>2</td>\n",
       "      <td>2</td>\n",
       "      <td>-2</td>\n",
       "      <td>2.0</td>\n",
       "      <td>$3.436.45</td>\n",
       "    </tr>\n",
       "    <tr>\n",
       "      <th>2</th>\n",
       "      <td>3</td>\n",
       "      <td>3</td>\n",
       "      <td>3</td>\n",
       "      <td>3</td>\n",
       "      <td>3.0</td>\n",
       "      <td>$958.99</td>\n",
       "    </tr>\n",
       "    <tr>\n",
       "      <th>3</th>\n",
       "      <td>4</td>\n",
       "      <td>4</td>\n",
       "      <td>5</td>\n",
       "      <td>4</td>\n",
       "      <td>NaN</td>\n",
       "      <td>$1.198.00</td>\n",
       "    </tr>\n",
       "  </tbody>\n",
       "</table>\n",
       "</div>"
      ],
      "text/plain": [
       "   string_col  int_float_D  int_float_r mix_col  missing      money\n",
       "0           1            1            1       a      1.0  $1.500.00\n",
       "1           2            2            2      -2      2.0  $3.436.45\n",
       "2           3            3            3       3      3.0    $958.99\n",
       "3           4            4            5       4      NaN  $1.198.00"
      ]
     },
     "execution_count": 45,
     "metadata": {},
     "output_type": "execute_result"
    }
   ],
   "source": [
    "df.head()"
   ]
  },
  {
   "cell_type": "markdown",
   "id": "92c0ebd6",
   "metadata": {},
   "source": [
    "## mix_col\n",
    "```its data type is object and i want to convert it to number but it contains string so use numeric on this col first```"
   ]
  }
 ],
 "metadata": {
  "kernelspec": {
   "display_name": "Python 3 (ipykernel)",
   "language": "python",
   "name": "python3"
  },
  "language_info": {
   "codemirror_mode": {
    "name": "ipython",
    "version": 3
   },
   "file_extension": ".py",
   "mimetype": "text/x-python",
   "name": "python",
   "nbconvert_exporter": "python",
   "pygments_lexer": "ipython3",
   "version": "3.9.13"
  }
 },
 "nbformat": 4,
 "nbformat_minor": 5
}
